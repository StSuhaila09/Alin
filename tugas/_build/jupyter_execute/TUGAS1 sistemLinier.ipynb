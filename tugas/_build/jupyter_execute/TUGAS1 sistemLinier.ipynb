{
 "cells": [
  {
   "cell_type": "markdown",
   "metadata": {
    "id": "b9qzMPSp_6ze"
   },
   "source": [
    "SISTEM LINEAR DAN METODE ELIMINASI GAUSSIAN\n",
    "\n",
    "ELIMINASI GAUSSIAN\n",
    "\n",
    "Eliminasi gaussian ditemukan oleh Carl Friedrich Guss,metode ini dapat dimanfaatkan dalam memecahkan sistem persamaan linear dengan merepresentasikan (mengubah) menjadi bentuk matriks,matriks tersebut lalu diubah dalam bentuk Eselon Baris melalui operasi Baris Elemter. lalu sistem diselesaikan dengan subtitusi balik.\n",
    "\n",
    "Bentuk Eselon Baris\n",
    "\n",
    "suatu matriks memiliki bentuk Eselon Baris jika memenuhi 3 kriteria sebagai berikut:\n",
    "\n",
    "Jika didalam baris terdapat elemen-elemen yang tidak semuanya nol, maka bilangan tak nol pertama di dalam baris tersebut adalah 1.\n",
    "kalau ada baris-baris yang semua elemennya bernilai 0 semua, maka baris-baris tersebut harus dikelompokkan dan diletakkan dibagian bawah matriks.\n",
    "\n",
    "Jika terdapat dua baris berurutan yang memenuhi kriteria pertama, maka angka 1 (pertama/utama) dari baris yang lebih rendah berada lebih kekanan dari angka 1(pertama/utama) baris yang diatasnya.\n",
    "\n",
    "ADA3 OPERASI YANG BISA DILAKUKAN\n",
    "\n",
    "Tukarkan posisi kedua persamaan.\n",
    "\n",
    "Kalikan persamaan dengan bilangan apa pun yang bukan nol.\n",
    "\n",
    "Gantikan suatu persamaan dengan jumlah persamaan itu sendiri dan kelipatan persamaan lainnya.\n",
    "\n",
    "yang pertama deklarasikan RowSwap, RowAdd dan RowScale untuk perhitungan selanjutnya:\n",
    "\n",
    "Selesaikan persamaan berikut ini dengan metode Eliminasi Gaussian.\n",
    "\n",
    "$$\n",
    "8x_1+x_2+x_3=19\\\\\n",
    "x_1+2x_2+3x_3=9\\\\\n",
    "2x_1+x_2+x_3=5\n",
    "$$\n"
   ]
  },
  {
   "cell_type": "code",
   "execution_count": 1,
   "metadata": {
    "id": "eufyT6BuAOcf"
   },
   "outputs": [],
   "source": [
    "import numpy as np\n",
    "\n",
    "def RowSwap(A,k,l):\n",
    "# =============================================================================\n",
    "#     A is a NumPy array.  RowSwap will return duplicate array with rows\n",
    "#     k and l swapped.\n",
    "# =============================================================================\n",
    "    m = A.shape[0]  # m is number of rows in A\n",
    "    n = A.shape[1]  # n is number of columns in A\n",
    "\n",
    "    B = np.copy(A).astype('float64')\n",
    "\n",
    "    for j in range(n):\n",
    "        temp = B[k][j]\n",
    "        B[k][j] = B[l][j]\n",
    "        B[l][j] = temp\n",
    "\n",
    "    return B\n",
    "\n",
    "def RowScale(A,k,scale):\n",
    "# =============================================================================\n",
    "#     A is a NumPy array.  RowScale will return duplicate array with the\n",
    "#     entries of row k multiplied by scale.\n",
    "# =============================================================================\n",
    "    m = A.shape[0]  # m is number of rows in A\n",
    "    n = A.shape[1]  # n is number of columns in A\n",
    "\n",
    "    B = np.copy(A).astype('float64')\n",
    "\n",
    "    for j in range(n):\n",
    "        B[k][j] *= scale\n",
    "\n",
    "    return B\n",
    "\n",
    "def RowAdd(A,k,l,scale):\n",
    "# =============================================================================\n",
    "#     A is a numpy array.  RowAdd will return duplicate array with row\n",
    "#     l modifed.  The new values will be the old values of row l added to\n",
    "#     the values of row k, multiplied by scale.\n",
    "# =============================================================================\n",
    "    m = A.shape[0]  # m is number of rows in A\n",
    "    n = A.shape[1]  # n is number of columns in A\n",
    "\n",
    "    B = np.copy(A).astype('float64')\n",
    "\n",
    "    for j in range(n):\n",
    "        B[l][j] += B[k][j]*scale\n",
    "\n",
    "    return B"
   ]
  },
  {
   "cell_type": "markdown",
   "metadata": {
    "id": "tr8dV7O6Ak_r"
   },
   "source": [
    "buat array NumPy dengan nilai-nilai ini. Kita akan memberi nama pada array A, sehingga kita bisa memanggilnya lagi nanti."
   ]
  },
  {
   "cell_type": "code",
   "execution_count": 2,
   "metadata": {
    "colab": {
     "base_uri": "https://localhost:8080/"
    },
    "executionInfo": {
     "elapsed": 17,
     "status": "ok",
     "timestamp": 1709484949274,
     "user": {
      "displayName": "23-037 St suhaila",
      "userId": "16131713325200429642"
     },
     "user_tz": -420
    },
    "id": "KAdd7_mgAmYq",
    "outputId": "42d6d59c-8657-4136-c593-4d7d58aab30f"
   },
   "outputs": [
    {
     "name": "stdout",
     "output_type": "stream",
     "text": [
      "[[ 8  9  1 19]\n",
      " [ 1  2  3  9]\n",
      " [ 2  1  1  5]]\n"
     ]
    }
   ],
   "source": [
    "import numpy as np\n",
    "A=np.array([[8,9,1,19],[1,2,3,9],[2,1,1,5]])\n",
    "print(A)"
   ]
  },
  {
   "cell_type": "code",
   "execution_count": 3,
   "metadata": {
    "colab": {
     "base_uri": "https://localhost:8080/"
    },
    "executionInfo": {
     "elapsed": 15,
     "status": "ok",
     "timestamp": 1709484949274,
     "user": {
      "displayName": "23-037 St suhaila",
      "userId": "16131713325200429642"
     },
     "user_tz": -420
    },
    "id": "GjxaMSZFAyTb",
    "outputId": "f1e1c9e9-5765-4889-97d5-c759b985ed4f"
   },
   "outputs": [
    {
     "name": "stdout",
     "output_type": "stream",
     "text": [
      "[[ 1.  2.  3.  9.]\n",
      " [ 8.  9.  1. 19.]\n",
      " [ 2.  1.  1.  5.]]\n"
     ]
    }
   ],
   "source": [
    "#pindahkan baris 0 ke baris 1\n",
    "A1 = RowSwap(A, 0, 1)\n",
    "print(A1)"
   ]
  },
  {
   "cell_type": "code",
   "execution_count": 4,
   "metadata": {
    "colab": {
     "base_uri": "https://localhost:8080/"
    },
    "executionInfo": {
     "elapsed": 13,
     "status": "ok",
     "timestamp": 1709484949274,
     "user": {
      "displayName": "23-037 St suhaila",
      "userId": "16131713325200429642"
     },
     "user_tz": -420
    },
    "id": "RJ1YZLGFAzDk",
    "outputId": "ccde6baf-c727-4e0e-de59-ce737d951245"
   },
   "outputs": [
    {
     "name": "stdout",
     "output_type": "stream",
     "text": [
      "[[  1.   2.   3.   9.]\n",
      " [  0.  -7. -23. -53.]\n",
      " [  2.   1.   1.   5.]]\n"
     ]
    }
   ],
   "source": [
    "# tambahkan -8 kali baris 0 ke baris 1\n",
    "A2 = RowAdd(A1, 0, 1, -8)\n",
    "print(A2)"
   ]
  },
  {
   "cell_type": "code",
   "execution_count": 5,
   "metadata": {
    "colab": {
     "base_uri": "https://localhost:8080/"
    },
    "executionInfo": {
     "elapsed": 13,
     "status": "ok",
     "timestamp": 1709484949275,
     "user": {
      "displayName": "23-037 St suhaila",
      "userId": "16131713325200429642"
     },
     "user_tz": -420
    },
    "id": "BNymZXOEA4Ck",
    "outputId": "68647aac-fbbe-4602-97fd-916eafb065c7"
   },
   "outputs": [
    {
     "name": "stdout",
     "output_type": "stream",
     "text": [
      "[[  1.   2.   3.   9.]\n",
      " [  0.  -7. -23. -53.]\n",
      " [  0.  -3.  -5. -13.]]\n"
     ]
    }
   ],
   "source": [
    "#tambahkan -2 kali baris 0 ke baris 2\n",
    "A3 = RowAdd(A2, 0, 2, -2)\n",
    "print(A3)"
   ]
  },
  {
   "cell_type": "code",
   "execution_count": 6,
   "metadata": {
    "colab": {
     "base_uri": "https://localhost:8080/"
    },
    "executionInfo": {
     "elapsed": 11,
     "status": "ok",
     "timestamp": 1709484949275,
     "user": {
      "displayName": "23-037 St suhaila",
      "userId": "16131713325200429642"
     },
     "user_tz": -420
    },
    "id": "KNdw3omvA7Uv",
    "outputId": "0a2ebf1d-95d7-4d19-dd5f-b3651a7a62fa"
   },
   "outputs": [
    {
     "name": "stdout",
     "output_type": "stream",
     "text": [
      "[[  1.           2.           3.           9.        ]\n",
      " [ -0.           1.           3.28571429   7.57142857]\n",
      " [  0.          -3.          -5.         -13.        ]]\n"
     ]
    }
   ],
   "source": [
    "#kalikan baris 1 dengan -1/7\n",
    "A4 = RowScale(A3, 1, -1/7)\n",
    "print(A4)"
   ]
  },
  {
   "cell_type": "code",
   "execution_count": 7,
   "metadata": {
    "colab": {
     "base_uri": "https://localhost:8080/"
    },
    "executionInfo": {
     "elapsed": 10,
     "status": "ok",
     "timestamp": 1709484949275,
     "user": {
      "displayName": "23-037 St suhaila",
      "userId": "16131713325200429642"
     },
     "user_tz": -420
    },
    "id": "XxxZKktPA86T",
    "outputId": "dd400155-b9b3-4d6e-c1de-c4fb4d0f9cb8"
   },
   "outputs": [
    {
     "name": "stdout",
     "output_type": "stream",
     "text": [
      "[[ 1.          2.          3.          9.        ]\n",
      " [-0.          1.          3.28571429  7.57142857]\n",
      " [ 0.          0.          4.85714286  9.71428571]]\n"
     ]
    }
   ],
   "source": [
    "#tambahkan 3 kali baris 1 ke baris 2\n",
    "A5 = RowAdd(A4, 1, 2, 3)\n",
    "print(A5)"
   ]
  },
  {
   "cell_type": "code",
   "execution_count": 8,
   "metadata": {
    "colab": {
     "base_uri": "https://localhost:8080/"
    },
    "executionInfo": {
     "elapsed": 9,
     "status": "ok",
     "timestamp": 1709484949275,
     "user": {
      "displayName": "23-037 St suhaila",
      "userId": "16131713325200429642"
     },
     "user_tz": -420
    },
    "id": "2sZ1ONe_BCaC",
    "outputId": "91243c9b-5216-4e09-c9d3-a9502b9ace66"
   },
   "outputs": [
    {
     "name": "stdout",
     "output_type": "stream",
     "text": [
      "[[ 1.          2.          3.          9.        ]\n",
      " [-0.          1.          3.28571429  7.57142857]\n",
      " [ 0.          0.          1.21428571  2.42857143]]\n"
     ]
    }
   ],
   "source": [
    "#kalikan baris 2 dengan 1/4\n",
    "A6 = RowScale(A5, 2, 1/4)\n",
    "print(A6)"
   ]
  },
  {
   "cell_type": "markdown",
   "metadata": {
    "id": "Ru9C3QcFBGwe"
   },
   "source": [
    "Dari matriks terakhir tersebut sudah memenuhi ketiga kriteria bentuk eselon baris. Selanjutnya tinggal mengubahnya kembali menjadi sistem persamaan linear\n",
    "$$\n",
    "x_1+2x_2+3x_3=9\\\\\n",
    "x_2+3.28571429x_3=7.57142857\\\\\n",
    "x_3=2\\\\\n",
    "$$\n"
   ]
  },
  {
   "cell_type": "code",
   "execution_count": 9,
   "metadata": {
    "colab": {
     "base_uri": "https://localhost:8080/"
    },
    "executionInfo": {
     "elapsed": 7,
     "status": "ok",
     "timestamp": 1709484949275,
     "user": {
      "displayName": "23-037 St suhaila",
      "userId": "16131713325200429642"
     },
     "user_tz": -420
    },
    "id": "1UUIFxFsBDJf",
    "outputId": "e887603a-32a4-4681-e1ff-04a83d5eeb48"
   },
   "outputs": [
    {
     "name": "stdout",
     "output_type": "stream",
     "text": [
      "x3: 2\n",
      "x2: 1\n",
      "x1: 1\n"
     ]
    }
   ],
   "source": [
    "#selesaikan persamaanya\n",
    "x3 = 2\n",
    "print('x3:', x3)\n",
    "x2 = 7.57142857-(3.28571429*x3)\n",
    "print(\"x2:\", round(x2))\n",
    "x1 = 9 - 2*x2 - 3*x3\n",
    "print('x1:', round(x1))"
   ]
  },
  {
   "cell_type": "code",
   "execution_count": 10,
   "metadata": {
    "colab": {
     "base_uri": "https://localhost:8080/",
     "height": 415
    },
    "executionInfo": {
     "elapsed": 1631,
     "status": "ok",
     "timestamp": 1709510887935,
     "user": {
      "displayName": "23-037 St suhaila",
      "userId": "16131713325200429642"
     },
     "user_tz": -420
    },
    "id": "eJRo87-vBLzk",
    "outputId": "57ae1a72-89bf-4a21-b16e-773a87f4b879"
   },
   "outputs": [
    {
     "data": {
      "image/png": "[encoded data removed]",
      "text/plain": [
       "<Figure size 640x480 with 1 Axes>"
      ]
     },
     "metadata": {},
     "output_type": "display_data"
    }
   ],
   "source": [
    "import numpy as np\n",
    "import matplotlib.pyplot as plt\n",
    "from mpl_toolkits.mplot3d import Axes3D\n",
    "\n",
    "# Koefisien untuk masing-masing persamaan bidang\n",
    "a1, b1, c1, r1 = 1, 2, 3, 9\n",
    "a2, b2, c2, r2 = 0, 1, 13, 27\n",
    "a3, b3, c3, r3 = 0, 0, 1, 2\n",
    "\n",
    "# Buat data x, y\n",
    "x = np.linspace(-10, 10, 100)\n",
    "y = np.linspace(-10, 10, 100)\n",
    "\n",
    "# Buat grid x, y\n",
    "X, Y = np.meshgrid(x, y)\n",
    "\n",
    "# Hitung nilai z sesuai dengan persamaan bidang\n",
    "Z1 = (r1 - a1*X - b1*Y) / c1\n",
    "Z2 = (r2 - a2*X - b2*Y) / c2\n",
    "Z3 = (r3 - a3*X - b3*Y) / c3\n",
    "\n",
    "# Plot persamaan bidang dalam tiga dimensi\n",
    "fig = plt.figure()\n",
    "ax = fig.add_subplot(111, projection='3d')\n",
    "\n",
    "# Plot bidang\n",
    "ax.plot_surface(X, Y, Z1, alpha=0.5, rstride=100, cstride=100, color='r')\n",
    "ax.plot_surface(X, Y, Z2, alpha=0.5, rstride=100, cstride=100, color='g')\n",
    "ax.plot_surface(X, Y, Z3, alpha=0.5, rstride=100, cstride=100, color='b')\n",
    "\n",
    "# Titik perpotongan\n",
    "A = np.array([[a1, b1, c1], [a2, b2, c2], [a3, b3, c3]])\n",
    "B = np.array([r1, r2, r3])\n",
    "intersect = np.linalg.solve(A, B)\n",
    "ax.scatter(intersect[0], intersect[1], intersect[2], color='yellow', s=100, label='Titik Perpotongan')\n",
    "\n",
    "# Label sumbu\n",
    "ax.set_xlabel('X')\n",
    "ax.set_ylabel('Y')\n",
    "ax.set_zlabel('Z')\n",
    "\n",
    "# Tampilkan legenda\n",
    "ax.legend()\n",
    "\n",
    "# Tampilkan plot\n",
    "plt.show()"
   ]
  }
 ],
 "metadata": {
  "colab": {
   "authorship_tag": "ABX9TyPrvtf2c4WTPlI26KSygiuO",
   "provenance": []
  },
  "kernelspec": {
   "display_name": "Python 3",
   "name": "python3"
  },
  "language_info": {
   "codemirror_mode": {
    "name": "ipython",
    "version": 3
   },
   "file_extension": ".py",
   "mimetype": "text/x-python",
   "name": "python",
   "nbconvert_exporter": "python",
   "pygments_lexer": "ipython3",
   "version": "3.10.13"
  }
 },
 "nbformat": 4,
 "nbformat_minor": 0
}