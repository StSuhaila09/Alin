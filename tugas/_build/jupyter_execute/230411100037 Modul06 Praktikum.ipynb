{
 "cells": [
  {
   "cell_type": "markdown",
   "metadata": {
    "id": "4C7h5moyWtNl"
   },
   "source": [
    "#Tugas Praktikum\n",
    "Buat program menggunakan bahasa pemrograman Python untuk soal-soal berikut ini:\n",
    "###1. Buatlah fungsi sequential search (dapat juga menemukan posisi-posisi dari data yang\n",
    "sama), dengan argument atau parameter berupa:\n",
    "\n",
    "a. data yang akan dicari\n",
    "\n",
    "b. list data dari data yang akan dicari\n",
    "Sedangkan return value dari fungsi ini berupa:\n",
    "\n",
    "a. indeks-indeks atau posisi dari data yang dicari pada list (jika data ditemukan), dan\n",
    "‘Data tidak ada’ jika data tidak ditemukan.\n",
    "\n",
    "b. Jumlah iterasi yang diperlukan selama proses pencarian"
   ]
  },
  {
   "cell_type": "code",
   "execution_count": 1,
   "metadata": {
    "colab": {
     "base_uri": "https://localhost:8080/"
    },
    "executionInfo": {
     "elapsed": 16,
     "status": "ok",
     "timestamp": 1716125330734,
     "user": {
      "displayName": "23-037 St suhaila",
      "userId": "16131713325200429642"
     },
     "user_tz": -420
    },
    "id": "AHz3y1XvXIhb",
    "outputId": "377d379f-1923-4a21-ce82-fbf0afb0cbe5"
   },
   "outputs": [
    {
     "name": "stdout",
     "output_type": "stream",
     "text": [
      "Posisi Data: [1, 5, 8]\n",
      "Jumlah iterasi: 10\n"
     ]
    }
   ],
   "source": [
    "def seq_search(lst, want):\n",
    "    jumlahiterasi = 0\n",
    "    ind = []\n",
    "\n",
    "    for i in range(len(lst)):\n",
    "        jumlahiterasi += 1\n",
    "        if lst[i] == want:\n",
    "            ind.append(i)\n",
    "\n",
    "    if ind:\n",
    "        return ind, jumlahiterasi\n",
    "    else:\n",
    "        return \"Data tidak ada\", jumlahiterasi\n",
    "\n",
    "data = [1,5,9,8,1,5,10,26,5,12]\n",
    "[hasil, jumlahiterasi] = seq_search(data, 5)\n",
    "print(\"Posisi Data:\", hasil)\n",
    "print(\"Jumlah iterasi:\", jumlahiterasi)"
   ]
  },
  {
   "cell_type": "code",
   "execution_count": 2,
   "metadata": {
    "colab": {
     "base_uri": "https://localhost:8080/"
    },
    "executionInfo": {
     "elapsed": 827,
     "status": "ok",
     "timestamp": 1716130302045,
     "user": {
      "displayName": "23-037 St suhaila",
      "userId": "16131713325200429642"
     },
     "user_tz": -420
    },
    "id": "xTKfRXY0Vf-Y",
    "outputId": "6a2714e1-3e7d-4913-e7fe-801fed1baebb"
   },
   "outputs": [
    {
     "name": "stdout",
     "output_type": "stream",
     "text": [
      "Posisi Data = Data tidak ada\n",
      "Jumlah Iterasi = 10\n"
     ]
    }
   ],
   "source": [
    "def seqSearch(data, listData):\n",
    "    jumlahIterasi = 0\n",
    "    for i in range(len(listData)):\n",
    "        jumlahIterasi += 1\n",
    "        if data == listData[i]:\n",
    "            return (i, jumlahIterasi)\n",
    "    return ('Data tidak ada', jumlahIterasi)\n",
    "\n",
    "a = [1,5,9,8,1,5,10,26,5,12]\n",
    "hasil, jumlahIterasi = seqSearch(0, a)\n",
    "print('Posisi Data =', hasil)\n",
    "print('Jumlah Iterasi =', jumlahIterasi)"
   ]
  },
  {
   "cell_type": "markdown",
   "metadata": {
    "id": "yGinU_91XFz_"
   },
   "source": [
    "###2. Lakukan modifikasi sequential search tersebut agar tetap meneruskan pencarian sampai data terakhir, dan kembalikan index data semua data yang ditemukan (asumsi, ada data yang sama)."
   ]
  },
  {
   "cell_type": "code",
   "execution_count": 3,
   "metadata": {
    "colab": {
     "base_uri": "https://localhost:8080/"
    },
    "executionInfo": {
     "elapsed": 745,
     "status": "ok",
     "timestamp": 1716130252328,
     "user": {
      "displayName": "23-037 St suhaila",
      "userId": "16131713325200429642"
     },
     "user_tz": -420
    },
    "id": "7rADgRKuWXdv",
    "outputId": "b3584d6e-634c-41dd-936d-af74803edc01"
   },
   "outputs": [
    {
     "name": "stdout",
     "output_type": "stream",
     "text": [
      "Posisi Data = [1, 5, 8]\n",
      "Jumlah Iterasi = 10\n"
     ]
    }
   ],
   "source": [
    "def seqSearch(data, listData):\n",
    "    jumlahIterasi = 0  # Inisialisasi penghitung iterasi\n",
    "    posisiData = []    # Inisialisasi daftar untuk menyimpan posisi data yang ditemukan\n",
    "\n",
    "    # Iterasi melalui seluruh daftar\n",
    "    for i in range(len(listData)):\n",
    "        jumlahIterasi += 1  # Tambahkan penghitung iterasi\n",
    "        if data == listData[i]:\n",
    "            posisiData.append(i)  # Tambahkan indeks ke posisiData jika data cocok\n",
    "\n",
    "    # Periksa apakah ada posisi yang ditemukan\n",
    "    if posisiData:\n",
    "        return (posisiData, jumlahIterasi)  # Kembalikan posisi dan jumlah iterasi\n",
    "    else:\n",
    "        return ('Data tidak ada', jumlahIterasi)  # Kembalikan pesan tidak ditemukan dan jumlah iterasi\n",
    "\n",
    "# Uji fungsi\n",
    "a = [1, 5, 9, 8, 1, 5, 10, 26, 5, 12]\n",
    "hasil, jumlahIterasi = seqSearch(5, a)\n",
    "print('Posisi Data =', hasil)\n",
    "print('Jumlah Iterasi =', jumlahIterasi)\n",
    "\n"
   ]
  },
  {
   "cell_type": "markdown",
   "metadata": {
    "id": "2aNMtELEWPBb"
   },
   "source": [
    "###3. Buatlah fungsi ordered sequential search (dapat juga menemukan posisi-posisi dari data yang sama), yaitu pencarian pada list data dimana semua data-data pada list tersebut dalam keadaan terurut (ascending). Argument atau parameter pada fungsi tersebut berupa :\n",
    "a. data yang akan dicari\n",
    "\n",
    "b. list data dari data yang akan dicari Sedangkan return value dari fungsi ini berupa:\n",
    "\n",
    "a. indeks-indeks atau posisi dari data yang dicari pada list (jika data ditemukan),dan ‘Data tidak ada’ jika data tidak ditemukan.\n",
    "\n",
    "b. Jumlah iterasi yang diperlukan selama proses pencarian\n",
    "\n",
    "Contoh hasil eksekusi (dengan data pada list a sama dengan sebelumnya, hanya saja sudah dalam keaadaan terurut) dapat dilihat sebagai berikut :\n",
    "\n",
    "- Dapat dilihat bahwa data ‘0’ tidak terdapat pada list a, dan jumlah iterasi yang dilakukan hanya 1x saja (dibandingkan dengan fungsi sequential search sebelumnya, yang membutuhkan 10x iterasi)\n",
    "- Jika dilakukan pencarian data ‘9’, maka data ditemukan pada indeks ke-6 dan hanya dilakukan 8 x iterasi pada proses pencarian.\n",
    "- Jika dilakukan pencarian data ‘5’ maka akan dihasilkan tiga indeks yaitu, indeks ke-2,3,dan 4. Sedangkan jumlah iterasi yang dilakukan hanyalah sebanyak 6x."
   ]
  },
  {
   "cell_type": "code",
   "execution_count": 4,
   "metadata": {
    "colab": {
     "base_uri": "https://localhost:8080/"
    },
    "executionInfo": {
     "elapsed": 585,
     "status": "ok",
     "timestamp": 1716125359132,
     "user": {
      "displayName": "23-037 St suhaila",
      "userId": "16131713325200429642"
     },
     "user_tz": -420
    },
    "id": "dPYCezj6XlOs",
    "outputId": "d471b602-6e9d-4919-df24-ed41ca0150c5"
   },
   "outputs": [
    {
     "name": "stdout",
     "output_type": "stream",
     "text": [
      "Posisi Data: [2, 3, 4]\n",
      "Jumlah iterasi: 6\n"
     ]
    }
   ],
   "source": [
    "def orderedseqsch(listx, carix):\n",
    "    iterasix = 1\n",
    "    foundx = []\n",
    "    idx = 0\n",
    "    while idx < len(listx) and listx[idx] <= carix  :\n",
    "        if listx[idx] == carix:\n",
    "            foundx.append(idx)\n",
    "        idx += 1\n",
    "        iterasix += 1\n",
    "    if foundx:\n",
    "        return foundx, iterasix\n",
    "    else:\n",
    "        return \"Data tidak ada\", iterasix\n",
    "\n",
    "ax = [1, 1, 5, 5, 5, 8, 9, 10, 12, 26]\n",
    "[hasil, iterasi] = orderedseqsch(ax, 5)\n",
    "print(\"Posisi Data:\", hasil)\n",
    "print(\"Jumlah iterasi:\", iterasi)"
   ]
  },
  {
   "cell_type": "markdown",
   "metadata": {
    "id": "mws8JiTHXlyw"
   },
   "source": [
    "###4. Buatlah fungsi binary search yang sudah dimodifikasi, sehingga dapat mencari data yang sama dan mengembalikan indeks-indeks dari data yang sama tersebut. Argument atau parameter pada fungsi tersebut berupa :\n",
    "a. data yang akan dicari\n",
    "\n",
    "b. list data dari data yang akan dicari\n",
    "Sedangkan return value dari fungsi ini berupa:\n",
    "\n",
    "c. indeks-indeks atau posisi dari data yang dicari pada list (jika data ditemukan),\n",
    "dan ‘Data tidak ada’ jika data tidak ditemukan.\n",
    "\n",
    "d. Jumlah iterasi yang diperlukan selama proses pencarian\n",
    "Contoh hasil eksekusi dari fungsi tersebut adalah :"
   ]
  },
  {
   "cell_type": "code",
   "execution_count": 5,
   "metadata": {
    "colab": {
     "base_uri": "https://localhost:8080/"
    },
    "executionInfo": {
     "elapsed": 829,
     "status": "ok",
     "timestamp": 1716125494124,
     "user": {
      "displayName": "23-037 St suhaila",
      "userId": "16131713325200429642"
     },
     "user_tz": -420
    },
    "id": "F8jAOh3vXy_O",
    "outputId": "23221ab6-60b7-43d5-a9a0-f23ab51b23c0"
   },
   "outputs": [
    {
     "name": "stdout",
     "output_type": "stream",
     "text": [
      "Posisi data = [4, 3, 2]\n",
      "Jumlah iterasi = 3\n"
     ]
    }
   ],
   "source": [
    "def binarysearch(data,target):\n",
    "    iterasi = 0\n",
    "    left = 0\n",
    "    right = len(data)-1\n",
    "    ind = []\n",
    "    while left <= right:\n",
    "        mid = (left + right) // 2\n",
    "        if data[mid] == target:\n",
    "            if mid >= 0 and mid < len(data) and data[mid-1] == target and data[mid+1] == target:\n",
    "                while mid >= 0 and data[mid-1] == target:\n",
    "                    mid -= 1\n",
    "                while mid < len(data) and data[mid] == target:\n",
    "                    ind.append(mid)\n",
    "                    mid += 1\n",
    "                    iterasi += 1\n",
    "            elif mid >= 0 and data[mid-1] == target:\n",
    "                while mid >= 0 and data[mid] == target:\n",
    "                    ind.append(mid)\n",
    "                    mid -= 1\n",
    "                    iterasi += 1\n",
    "            elif mid < len(data) and data[mid] == target:\n",
    "                while mid < len(data) and data[mid] == target:\n",
    "                    ind.append(mid)\n",
    "                    mid += 1\n",
    "                    iterasi += 1\n",
    "            else:\n",
    "                iterasi += 1\n",
    "                ind.append(mid)\n",
    "                return [ind,iterasi]\n",
    "            return [ind,iterasi]\n",
    "        else:\n",
    "            if target > data[mid]:\n",
    "                left = mid + 1\n",
    "            else :\n",
    "                right = mid - 1\n",
    "        iterasi += 1\n",
    "    return [\"Tidak ada data\",iterasi]\n",
    "\n",
    "a = [1,1,5,5,5,8,9,10,12,26]\n",
    "[hasil,iterasi] = binarysearch(a,5)\n",
    "print(f\"Posisi data = {hasil}\")\n",
    "print(f\"Jumlah iterasi = {iterasi}\")"
   ]
  }
 ],
 "metadata": {
  "colab": {
   "authorship_tag": "ABX9TyNFVVD+J4z0h5diizjjNffC",
   "provenance": []
  },
  "kernelspec": {
   "display_name": "Python 3",
   "name": "python3"
  },
  "language_info": {
   "codemirror_mode": {
    "name": "ipython",
    "version": 3
   },
   "file_extension": ".py",
   "mimetype": "text/x-python",
   "name": "python",
   "nbconvert_exporter": "python",
   "pygments_lexer": "ipython3",
   "version": "3.10.13"
  }
 },
 "nbformat": 4,
 "nbformat_minor": 0
}