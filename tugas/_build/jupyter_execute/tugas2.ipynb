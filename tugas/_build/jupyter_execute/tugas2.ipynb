{
 "cells": [
  {
   "cell_type": "markdown",
   "metadata": {},
   "source": [
    "# TUGAS2"
   ]
  },
  {
   "cell_type": "markdown",
   "metadata": {
    "id": "G4cxwrZ6PUfn"
   },
   "source": [
    "tidak mengerjakan tidak boleh masuk!!\n",
    "\n",
    "- berikan penjelasan tentang apa itu matrik\n",
    "-operasi matrik\n",
    "-penjumlahan,perkalian,pengurangan,transpose matrik\n",
    "- buat program untuk mengalikan matrik a dan b"
   ]
  },
  {
   "cell_type": "markdown",
   "metadata": {
    "id": "MxNTrSUvCNrB"
   },
   "source": [
    "* NOMER 1\n",
    "\n",
    "  Matriks adalah susunan data berupa himpunan bilangan yang disusun dalam bentuk baris dan kolom. Setiap elemen dalam matriks diletakkan dalam posisi yang terdefinisi berdasarkan baris dan kolomnya. Dengan demikian, matriks dapat dianggap sebagai tabel berukuran tertentu yang terdiri dari elemen-elemen bilangan."
   ]
  },
  {
   "cell_type": "code",
   "execution_count": 1,
   "metadata": {
    "colab": {
     "base_uri": "https://localhost:8080/"
    },
    "executionInfo": {
     "elapsed": 438,
     "status": "ok",
     "timestamp": 1709515703760,
     "user": {
      "displayName": "23-037 St suhaila",
      "userId": "16131713325200429642"
     },
     "user_tz": -420
    },
    "id": "_24EQLRJ6_xj",
    "outputId": "4db2903c-a13c-4929-f605-f2c84866e535"
   },
   "outputs": [
    {
     "name": "stdout",
     "output_type": "stream",
     "text": [
      "a+b= [[14 23 -7]\n",
      " [34 54 20]\n",
      " [38 68  6]]\n"
     ]
    }
   ],
   "source": [
    "import numpy as np\n",
    "a = np.array([[2,4,1],[0,5,7],[3,8,6]])#matrik 3x3\n",
    "b = np.array([[-2,6,0],[4,1,-3],[2,7,5]])#matrik 3x3\n",
    "c = np.array([[3,1],[-2,5],[0,7]])#matrik 3x2\n",
    "d = np.array([[1,4],[6,-1],[2,0]])#matrik 3x2\n",
    "print('a+b=' ,a@b)\n"
   ]
  },
  {
   "cell_type": "code",
   "execution_count": 2,
   "metadata": {
    "id": "yxvVCSYpDXhI"
   },
   "outputs": [
    {
     "name": "stdout",
     "output_type": "stream",
     "text": [
      "[[ 2  9  6]\n",
      " [ 4  9 16]\n",
      " [ 5 13 12]]\n",
      "\n",
      "\n",
      "[[ 2  6  6]\n",
      " [ 4  2 18]\n",
      " [ 4  8 14]]\n",
      "\n",
      "\n",
      "[[35 31]\n",
      " [63 73]\n",
      " [66 65]]\n",
      "\n",
      "\n",
      "[[ 551  451]\n",
      " [ 915  732]\n",
      " [1011  821]]\n",
      "\n",
      "\n",
      "[[ 551  451]\n",
      " [ 915  732]\n",
      " [1011  821]]\n",
      "\n",
      "\n",
      "[[ 0 -3  0]\n",
      " [ 0 -7  2]\n",
      " [-1 -5  2]]\n",
      "\n",
      "\n",
      "[[2 5 6]\n",
      " [4 2 7]]\n",
      "[[65 60]\n",
      " [60 69]]\n"
     ]
    }
   ],
   "source": [
    "import numpy as np\n",
    "A = np.array([[1, 3, 3],[2, 1, 9],[2, 4, 7]])\n",
    "B = np.array([[1,6,3],[2,8,7],[3,9,5]]) #3x3\n",
    "C = np.array([[2,4],[5,2],[6,7]]) #3x2\n",
    "D = np.array([[3,7,5],[1,4,8],[2,4,5]])\n",
    "E = A+B #penjumlahan\n",
    "F = 2*A #Skala\n",
    "G = A@C #perkalian\n",
    "H = B@C\n",
    "I = A@H\n",
    "J = A@B\n",
    "K = J@C\n",
    "L = A-B #pengurangan\n",
    "\n",
    "C_trans = C.transpose()\n",
    "Z = C_trans@C\n",
    "print(E)\n",
    "print('\\n')\n",
    "print(F)\n",
    "print('\\n')\n",
    "print(G)\n",
    "print('\\n')\n",
    "print(I)\n",
    "print('\\n')\n",
    "print(K)\n",
    "print('\\n')\n",
    "print(L)\n",
    "print('\\n')\n",
    "print(C_trans)\n",
    "print(Z)"
   ]
  },
  {
   "cell_type": "code",
   "execution_count": 3,
   "metadata": {
    "colab": {
     "base_uri": "https://localhost:8080/"
    },
    "executionInfo": {
     "elapsed": 355,
     "status": "ok",
     "timestamp": 1709516695781,
     "user": {
      "displayName": "23-037 St suhaila",
      "userId": "16131713325200429642"
     },
     "user_tz": -420
    },
    "id": "QMBZ7A8BETkV",
    "outputId": "68e3c543-843b-4d48-b376-e4be0b39d619"
   },
   "outputs": [
    {
     "name": "stdout",
     "output_type": "stream",
     "text": [
      "a= [[2 3 1]\n",
      " [0 5 2]]\n",
      "\n",
      "b= [[-2  5  0]\n",
      " [-1  2 -3]]\n",
      "\n",
      "c= [[4 1 3]\n",
      " [1 5 7]]\n",
      "\n"
     ]
    }
   ],
   "source": [
    "#contoh e\n",
    "import numpy as np\n",
    "a = np.array([[2,3,1],[0,5,2]])\n",
    "print('a=' ,a)\n",
    "print()\n",
    "b = np.array([[-2,5,0],[-1,2,-3]])\n",
    "print('b=' ,b)\n",
    "print()\n",
    "c = np.array([[4,1,3],[1,5,7]])\n",
    "print('c=' ,c)\n",
    "print()\n"
   ]
  },
  {
   "cell_type": "code",
   "execution_count": 4,
   "metadata": {
    "colab": {
     "base_uri": "https://localhost:8080/"
    },
    "executionInfo": {
     "elapsed": 409,
     "status": "ok",
     "timestamp": 1710693351038,
     "user": {
      "displayName": "23-037 St suhaila",
      "userId": "16131713325200429642"
     },
     "user_tz": -420
    },
    "id": "PPvPv4gEKM8n",
    "outputId": "fc01914a-a159-4625-d16b-227ee750b475"
   },
   "outputs": [
    {
     "name": "stdout",
     "output_type": "stream",
     "text": [
      "Hasil perkalian matriks A dan B:\n",
      "[91, -23, 19]\n",
      "[62, 13, 71]\n",
      "[75, -23, -3]\n"
     ]
    }
   ],
   "source": [
    "# Membuat matriks A dengan ordo 3x3\n",
    "A = [[-3,4,6],\n",
    "     [5,2,7],\n",
    "     [-5,6,2]]\n",
    "\n",
    "# Membuat matriks B dengan ordo 3x3\n",
    "B = [[-3,5,7],\n",
    "     [7,1,4],\n",
    "     [9,-2,4]]\n",
    "\n",
    "# Membuat matriks C dengan ordo 3x2\n",
    "C = [[0, 0, 0],\n",
    "     [0, 0, 0],\n",
    "     [0, 0, 0]]\n",
    "\n",
    "# Membuat matriks D dengan ordo 3x2\n",
    "D = [[0, 0, 0],\n",
    "     [0, 0, 0],\n",
    "     [0, 0, 0]]\n",
    "\n",
    "\n",
    "# Mengalikan matriks A dan B\n",
    "for i in range(len(A)):\n",
    "    for j in range(len(B[0])):\n",
    "        for k in range(len(B)):\n",
    "            C[i][j] += A[i][k] * B[k][j]\n",
    "\n",
    "# Menampilkan hasil perkalian\n",
    "print(\"Hasil perkalian matriks A dan B:\")\n",
    "for row in C:\n",
    "    print(row)\n"
   ]
  }
 ],
 "metadata": {
  "colab": {
   "authorship_tag": "ABX9TyPcRCte+I/+jU4a3V0EUibE",
   "provenance": []
  },
  "kernelspec": {
   "display_name": "Python 3",
   "name": "python3"
  },
  "language_info": {
   "codemirror_mode": {
    "name": "ipython",
    "version": 3
   },
   "file_extension": ".py",
   "mimetype": "text/x-python",
   "name": "python",
   "nbconvert_exporter": "python",
   "pygments_lexer": "ipython3",
   "version": "3.10.13"
  }
 },
 "nbformat": 4,
 "nbformat_minor": 0
}